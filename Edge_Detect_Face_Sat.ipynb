{
 "cells": [
  {
   "cell_type": "code",
   "execution_count": null,
   "metadata": {},
   "outputs": [],
   "source": [
    "import cv2\n",
    "import numpy as np\n",
    "\n",
    "cap=cv2.VideoCapture(0)\n",
    "while True:\n",
    "    ret,frame=cap.read()\n",
    "    sobely=cv2.Sobel(frame,cv2.CV_64F,0,1,ksize=5)\n",
    "    edges=cv2.Canny(frame,90,90)\n",
    "    bilateral = cv2.bilateralFilter(edges,15,75,75)\n",
    "    cv2.circle(edges,(515,286),2,(0,0,255),-1)\n",
    "    cv2.circle(edges,(595,273),2,(0,0,255),-1)\n",
    "    cv2.circle(edges,(527,356),2,(0,0,255),-1)\n",
    "    cv2.circle(edges,(610,356),2,(0,0,255),-1)\n",
    "    cv2.circle(bilateral,(515,286),2,(0,0,255),-1)\n",
    "    cv2.circle(bilateral,(595,273),2,(0,0,255),-1)\n",
    "    cv2.circle(bilateral,(527,356),2,(0,0,255),-1)\n",
    "    cv2.circle(bilateral,(610,356),2,(0,0,255),-1)\n",
    "    pts1=np.float32([[515,286],[595,273],[527,356],[610,356]])\n",
    "    pts2=np.float32([[00,00],[610,0],[0,356],[610,356]])\n",
    "    trnf=cv2.getPerspectiveTransform(pts1,pts2) \n",
    "    result = cv2.warpPerspective(edges, trnf, (620, 400))\n",
    "    result1 = cv2.warpPerspective(bilateral, trnf, (620, 400))\n",
    "    cv2.imshow(\"Result\",result)\n",
    "    cv2.imshow(\"James\",edges)\n",
    "    cv2.imshow(\"Frame\",frame)\n",
    "    cv2.imshow(\"Bilateral\",result1)\n",
    "    key=cv2.waitKey(1)\n",
    "    if key==27:\n",
    "        break\n",
    "\n",
    "cv2.destroyAllWindows()\n",
    "cap.release()"
   ]
  }
 ],
 "metadata": {
  "kernelspec": {
   "display_name": "Python 3",
   "language": "python",
   "name": "python3"
  },
  "language_info": {
   "codemirror_mode": {
    "name": "ipython",
    "version": 3
   },
   "file_extension": ".py",
   "mimetype": "text/x-python",
   "name": "python",
   "nbconvert_exporter": "python",
   "pygments_lexer": "ipython3",
   "version": "3.7.4"
  }
 },
 "nbformat": 4,
 "nbformat_minor": 2
}
